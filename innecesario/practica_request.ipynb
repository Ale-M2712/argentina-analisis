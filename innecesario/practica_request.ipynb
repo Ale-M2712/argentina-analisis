{
 "cells": [
  {
   "cell_type": "markdown",
   "id": "62aa482e",
   "metadata": {},
   "source": [
    "probamos request"
   ]
  },
  {
   "cell_type": "code",
   "execution_count": null,
   "id": "c441d0bd",
   "metadata": {},
   "outputs": [
    {
     "name": "stdout",
     "output_type": "stream",
     "text": [
      "404\n"
     ]
    }
   ],
   "source": [
    "import requests\n",
    "url = \"https://www.presupuestoabierto.gob.ar/api/v1/\"\n",
    "req = requests.get(url)\n",
    "print (req.status_code)\n",
    "\n",
    "#dio 404 ,imagino que por el tema del token"
   ]
  },
  {
   "cell_type": "markdown",
   "id": "0c8dbd44",
   "metadata": {},
   "source": [
    "probamos ver el contenido"
   ]
  },
  {
   "cell_type": "code",
   "execution_count": null,
   "id": "222c7340",
   "metadata": {},
   "outputs": [
    {
     "name": "stdout",
     "output_type": "stream",
     "text": [
      "b'{\"timestamp\":\"2025-10-04T16:52:30.044+00:00\",\"status\":404,\"error\":\"Not Found\",\"path\":\"/api/v1/\"}'\n"
     ]
    }
   ],
   "source": [
    "import requests\n",
    "url = \"https://www.presupuestoabierto.gob.ar/api/v1/\"\n",
    "req = requests.get(url)\n",
    "print (req.content)\n",
    "\n",
    "#te tiene que devolver el html de la pagina \n",
    "#pero como da un error 404 no lo hace"
   ]
  },
  {
   "cell_type": "markdown",
   "id": "2c075ecc",
   "metadata": {},
   "source": [
    "tmb se puede pedir json"
   ]
  },
  {
   "cell_type": "code",
   "execution_count": null,
   "id": "b1200d28",
   "metadata": {},
   "outputs": [
    {
     "name": "stdout",
     "output_type": "stream",
     "text": [
      "{'timestamp': '2025-10-04T16:54:15.240+00:00', 'status': 404, 'error': 'Not Found', 'path': '/api/v1/'}\n"
     ]
    }
   ],
   "source": [
    "import requests\n",
    "url = \"https://www.presupuestoabierto.gob.ar/api/v1/\"\n",
    "req = requests.get(url)\n",
    "print (req.json())\n",
    "\n",
    "#tmb se puede pedir json si es una api\n",
    "#pero como da un error 404 no lo hace\n",
    "#si no tiene json tira error\n"
   ]
  },
  {
   "cell_type": "markdown",
   "id": "6543d1fa",
   "metadata": {},
   "source": [
    "tmb se puede pedir los headers"
   ]
  },
  {
   "cell_type": "code",
   "execution_count": null,
   "id": "7c7bee04",
   "metadata": {},
   "outputs": [],
   "source": [
    "import requests\n",
    "url = \"https://www.presupuestoabierto.gob.ar/api/v1/\"\n",
    "req = requests.get(url)\n",
    "print (req.headers)"
   ]
  },
  {
   "cell_type": "markdown",
   "id": "5c47d2fa",
   "metadata": {},
   "source": [
    "tambien se puede enviar hacia la pagina o api"
   ]
  },
  {
   "cell_type": "code",
   "execution_count": null,
   "id": "2418876c",
   "metadata": {},
   "outputs": [],
   "source": [
    "import requests\n",
    "url = \"https://www.presupuestoabierto.gob.ar/api/v1/\"\n",
    "\n",
    "data = {\n",
    "    'key1': 'value1',\n",
    "    'key2': 'value2'\n",
    "}\n",
    "\n",
    "req = requests.post(url,json=data)\n",
    "\n",
    "print (req.json())"
   ]
  },
  {
   "cell_type": "markdown",
   "id": "70851efc",
   "metadata": {},
   "source": [
    "se pueden poner parametros de busqueda"
   ]
  },
  {
   "cell_type": "code",
   "execution_count": null,
   "id": "de8a7884",
   "metadata": {},
   "outputs": [],
   "source": [
    "import requests\n",
    "url = \"https://www.presupuestoabierto.gob.ar/api/v1/\"\n",
    "parametros = {\n",
    "    'param1': 'value1',\n",
    "    'param2': 'value2'\n",
    "}\n",
    "req = requests.get(url, params=parametros)\n",
    "\n",
    "print (f\"URL solicitada: {req.url}\")"
   ]
  },
  {
   "cell_type": "markdown",
   "id": "ae7f3fca",
   "metadata": {},
   "source": [
    "autenticacion con usuario y contraseña"
   ]
  },
  {
   "cell_type": "code",
   "execution_count": null,
   "id": "4601b298",
   "metadata": {},
   "outputs": [],
   "source": [
    "req = requests.get(url, auth=('user', 'pass'))"
   ]
  },
  {
   "cell_type": "markdown",
   "id": "5944809e",
   "metadata": {},
   "source": [
    "autenticacion con token"
   ]
  },
  {
   "cell_type": "code",
   "execution_count": 7,
   "id": "59a9c934",
   "metadata": {},
   "outputs": [
    {
     "name": "stdout",
     "output_type": "stream",
     "text": [
      "{'timestamp': '2025-10-04T22:04:42.428+00:00', 'status': 405, 'error': 'Method Not Allowed', 'path': '/api/v1/credito'}\n"
     ]
    }
   ],
   "source": [
    "import requests\n",
    "\n",
    "url = \"https://www.presupuestoabierto.gob.ar/api/v1/credito\"\n",
    "\n",
    "headers_auth = {\n",
    "    'Authorization':'40d2c302-66ad-4671-a15f-73acc27ef763',\n",
    "    'content-type': 'application/json'\n",
    "}\n",
    "req = requests.get(url, headers=headers_auth)\n",
    "print (req.json())"
   ]
  },
  {
   "cell_type": "markdown",
   "id": "6a85e080",
   "metadata": {},
   "source": [
    "prueba"
   ]
  },
  {
   "cell_type": "code",
   "execution_count": 9,
   "id": "6d145889",
   "metadata": {},
   "outputs": [
    {
     "name": "stdout",
     "output_type": "stream",
     "text": [
      "{'timestamp': '2025-10-04T22:09:07.928+00:00', 'status': 405, 'error': 'Method Not Allowed', 'path': '/api/v1/credito'}\n"
     ]
    }
   ],
   "source": [
    "import requests\n",
    "\n",
    "url = \"https://www.presupuestoabierto.gob.ar/api/v1/credito\"\n",
    "\n",
    "headers_auth = {\n",
    "    'Authorization':'40d2c302-66ad-4671-a15f-73acc27ef763',\n",
    "    #'content-type': 'application/json'\n",
    "}\n",
    "\n",
    "json_prueba ={\n",
    "    \"title\": \"Credito vigente por jurisdiccion\",\n",
    "    \"columns\": [\n",
    "        \"jurisdiccion_id\",\n",
    "        \"jurisdiccion_desc\",\n",
    "        \"credito_vigente\"\n",
    "    ]\n",
    "}\n",
    "\n",
    "req = requests.get(url, headers=headers_auth ,params = json_prueba)\n",
    "print (req.json())"
   ]
  },
  {
   "cell_type": "code",
   "execution_count": 20,
   "id": "5493de7f",
   "metadata": {},
   "outputs": [
    {
     "name": "stdout",
     "output_type": "stream",
     "text": [
      "400\n",
      "Error: {\"statusCode\":400,\"message\":\"Internal error: [1,148][/columns/1] The value must be one of [\\\"impacto_presupuestario_fecha\\\", \\\"impacto_presupuestario_anio\\\", \\\"impacto_presupuestario_mes\\\", \\\"ejercicio_presupuestario\\\", \\\"sector_id\\\", \\\"sector_desc\\\", \\\"subsector_id\\\", \\\"subsector_desc\\\", \\\"caracter_id\\\", \\\"caracter_desc\\\", \\\"jurisdiccion_id\\\", \\\"jurisdiccion_desc\\\", \\\"subjurisdiccion_id\\\", \\\"subjurisdiccion_desc\\\", \\\"entidad_id\\\", \\\"entidad_desc\\\", \\\"servicio_id\\\", \\\"servicio_desc\\\", \\\"programa_id\\\", \\\"programa_desc\\\", \\\"subprograma_id\\\", \\\"subprograma_desc\\\", \\\"proyecto_id\\\", \\\"proyecto_desc\\\", \\\"actividad_id\\\", \\\"actividad_desc\\\", \\\"obra_id\\\", \\\"obra_desc\\\", \\\"finalidad_id\\\", \\\"finalidad_desc\\\", \\\"funcion_id\\\", \\\"funcion_desc\\\", \\\"inciso_id\\\", \\\"inciso_desc\\\", \\\"principal_id\\\", \\\"principal_desc\\\", \\\"parcial_id\\\", \\\"parcial_desc\\\", \\\"subparcial_id\\\", \\\"subparcial_desc\\\", \\\"clasificador_economico_8_digitos_id\\\", \\\"clasificador_economico_8_digitos_desc\\\", \\\"fuente_financiamiento_id\\\", \\\"fuente_financiamiento_desc\\\", \\\"ubicacion_geografica_id\\\", \\\"ubicacion_geografica_desc\\\", \\\"unidad_ejecutora_id\\\", \\\"unidad_ejecutora_desc\\\", \\\"prestamo_externo_id\\\", \\\"prestamo_externo_desc\\\", \\\"codigo_bapin_id\\\", \\\"codigo_bapin_desc\\\", \\\"credito_presupuestado\\\", \\\"credito_vigente\\\", \\\"credito_comprometido\\\", \\\"credito_devengado\\\", \\\"credito_pagado\\\", \\\"ultima_actualizacion_fecha\\\"].\",\"detail\":\"\"}\n"
     ]
    }
   ],
   "source": [
    "import requests\n",
    "\n",
    "url = \"https://www.presupuestoabierto.gob.ar/api/v1/credito?format=csv\"\n",
    "\n",
    "headers = {\n",
    "    \"Authorization\": \"40d2c302-66ad-4671-a15f-73acc27ef763\",\n",
    "    \"Content-Type\": \"application/json\",\n",
    "    \"Accept\": \"text/csv\"\n",
    "}\n",
    "\n",
    "payload = {\n",
    "    \"title\": \"Credito vigente por jurisdiccion\",\n",
    "    \"ejercicios\": [2021,2022,2023,2024,2025],\n",
    "    \"columns\": [\n",
    "       \"ejercicio_presupuestario\",\n",
    "       \"servicio_id\t \",\n",
    "       \"programa_id\",\n",
    "       \"programa_desc\",\n",
    "       \"subprograma_id\",\n",
    "       \"subprograma_desc\",\n",
    "       \"proyecto_id\",\n",
    "       \"proyecto_desc\",\n",
    "       \"actividad_id\",\n",
    "       \"actividad_desc\",\n",
    "       \"obra_id\",\n",
    "       \"obra_desc\",\n",
    "       \"ultima_actualizacion_fecha\"\n",
    "    ]\n",
    "}\n",
    "\n",
    "response = requests.post(url, json=payload, headers=headers)\n",
    "\n",
    "print(response.status_code)\n",
    "\n",
    "if response.status_code == 200:\n",
    "    with open(\"credito.csv\", \"wb\") as f:\n",
    "        f.write(response.content)\n",
    "    print(\"CSV guardado como credito.csv\")\n",
    "else:\n",
    "    print(\"Error:\", response.text)"
   ]
  }
 ],
 "metadata": {
  "kernelspec": {
   "display_name": "Python 3",
   "language": "python",
   "name": "python3"
  },
  "language_info": {
   "codemirror_mode": {
    "name": "ipython",
    "version": 3
   },
   "file_extension": ".py",
   "mimetype": "text/x-python",
   "name": "python",
   "nbconvert_exporter": "python",
   "pygments_lexer": "ipython3",
   "version": "3.13.4"
  }
 },
 "nbformat": 4,
 "nbformat_minor": 5
}
